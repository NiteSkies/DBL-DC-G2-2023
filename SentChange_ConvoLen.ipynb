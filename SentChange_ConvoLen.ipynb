{
 "cells": [
  {
   "cell_type": "code",
   "execution_count": 31,
   "id": "7b0cf53f",
   "metadata": {},
   "outputs": [],
   "source": [
    "import pandas as pd\n",
    "import numpy as np\n",
    "from collections import defaultdict\n",
    "from collections import OrderedDict\n",
    "from vaderSentiment.vaderSentiment import SentimentIntensityAnalyzer\n",
    "\n",
    "def get_sentiment_change_mean(path):\n",
    "    df_conversations = pd.read_csv(path,\n",
    "                                 dtype={'id_str': 'str',\n",
    "                                        'in_reply_to_screen_name':'str',\n",
    "                                        'in_reply_to_status_id_str': 'str',\n",
    "                                        'in_reply_to_user_id_str': 'str',\n",
    "                                        'text': 'str',\n",
    "                                        'timestamp_ms': 'float64',\n",
    "                                        'user.id_str': 'str',\n",
    "                                        'user.screen_name': 'str',\n",
    "                                        'group_id': 'int'})\n",
    "    \n",
    "    # Add the second index for each reply within each group\n",
    "    df_conversations['reply_index'] = df_conversations.groupby('group_index').cumcount() + 1\n",
    "    \n",
    "\n",
    "    # Set the two indexes for the DataFrame\n",
    "    df_conversations.set_index(['group_index'], inplace=True)\n",
    "\n",
    "    analyzer = SentimentIntensityAnalyzer()\n",
    "\n",
    "    # Define a function to get the compound score for a sentence. Its range is from -1 to 1, with -1 being negative and 1 being positive. The range [-0.05, 0.05] is considered as neutral\n",
    "    def get_sentiment_score(text):\n",
    "        sentiment = analyzer.polarity_scores(text)\n",
    "        return sentiment['compound']\n",
    "\n",
    "\n",
    "    df_conversations['sentiment'] = df_conversations['text'].apply(get_sentiment_score)\n",
    "    \n",
    "    # Grouping by the first index of the MultiIndex\n",
    "    grouped = df_conversations.groupby(level=0)\n",
    "\n",
    "    # Filter conversations with at least 3 tweets\n",
    "    filtered = grouped.filter(lambda x: len(x) >= 3)\n",
    "    \n",
    "    # Get the first level of the MultiIndex\n",
    "    first_index = filtered.index.get_level_values(0)\n",
    "    first_index_list = first_index.tolist()\n",
    "    \n",
    "    # Count number of tweets per convo, stored in dictionary\n",
    "    consecutive_counter = {i : first_index_list.count(i) for i in first_index_list}\n",
    "    # Create a sorted and ordered dictionary of length keys and convo index values\n",
    "    res = defaultdict(list)\n",
    "    for key, val in sorted(consecutive_counter.items()):\n",
    "        res[val].append(key)\n",
    "    dict1 = OrderedDict(sorted(res.items()))\n",
    "    \n",
    "    \n",
    "    key_list = list(dict1.keys())\n",
    "    value_list = list(dict1.values())\n",
    " \n",
    "    sentiment_list = {}\n",
    "    for keys in range(0, len(key_list)):\n",
    "        for vals in value_list[keys]:\n",
    "            temp = []\n",
    "            for _, id_variable in filtered.loc[vals].iterrows():\n",
    "                sentiment_variable = id_variable['sentiment']\n",
    "                for index, value in filtered.loc[vals][::-1].iterrows():\n",
    "                    if (value['user.id_str'] != '18332190'):\n",
    "                        if (value['id_str'] == id_variable['id_str']):\n",
    "                            break\n",
    "                        if (value['user.id_str'] == id_variable['user.id_str']):\n",
    "                            temp.append(value['sentiment'] - sentiment_variable)\n",
    "                            break\n",
    "                sentiment_list[key_list[keys]] = (sum(temp))\n",
    "\n",
    "    sent_df = pd.DataFrame([sentiment_list])\n",
    "    print(sent_df.to_string())"
   ]
  },
  {
   "cell_type": "code",
   "execution_count": 28,
   "id": "25513961",
   "metadata": {},
   "outputs": [
    {
     "name": "stdout",
     "output_type": "stream",
     "text": [
      "      3       4       5       6       7       8      9       10      11      12      13      14      15      16     17      18     19      20   21      22      23      24      25      26      27      28      29      30      31     32      33      34      35      36      37      38      39    41      44      45      46      47      48      50      54       56      58      59      63     65      67      68      73      83      84      87      88       91      92      94      96       99      109      110     121     124      148     157     237     279      308      339      390      569\n",
      "0 -0.6363  0.1368 -0.0046  0.2136 -1.6171 -0.2178  4.017 -3.3741  5.2075  1.3788 -7.1623 -0.3444  0.1027  0.5448 -0.077 -2.2493 -1.053  1.5146    0 -3.5548 -0.1522  0.1839  0.9653  1.4823 -4.0174  3.2577  0.4153  1.5912 -2.0723 -1.577  1.0448  3.4214 -0.5566 -0.3138  2.1886 -1.2271 -1.5282  2.69 -4.2229 -0.2806  0.8258 -0.1618  0.3131 -0.3446  2.6305 -22.0561  3.4233  0.7212  1.4371 -2.844  1.7077  3.6683 -2.5733  2.8871  2.8638 -7.9806  4.8981 -17.4487  9.9587  8.5198 -0.2824 -16.0907  1.4025 -11.8059 -7.8335  4.4148  37.4282  5.1605 -1.7621 -4.6525  63.2659  71.5195 -10.5858  153.785\n"
     ]
    }
   ],
   "source": [
    "get_sentiment_change_mean(\"C:\\\\Users\\\\20211487\\\\index_testing\\\\conversations_total_easyjet.csv\")\n"
   ]
  },
  {
   "cell_type": "code",
   "execution_count": 27,
   "id": "4f52312a",
   "metadata": {},
   "outputs": [
    {
     "name": "stdout",
     "output_type": "stream",
     "text": [
      "     3     4     5       6       7      8       9       10      11      12    13      14      15      16      17      18    19      20    21      23    24     25      27      28     29      32      33      34      37     38      39      40    42      43      45      51      52      53      56      64      65    66      69      70      74      85      90      94     108     111     112     118     122     135     141     160     167     185     198      231     234      252     269    282      353     379     625     752     760      1089    1153     1540     1742     2664\n",
      "0  0.3942     0   0.0 -0.5522  1.1698 -1.067  0.7405 -0.1769  2.4102  4.2001  0.99  1.4658  0.4768  4.6036  0.4642 -0.0652     0 -1.2323     0  0.5673   0.0  0.176  0.5646  1.3353  4.465  2.3586  0.6869  1.8948 -1.1592  0.436  0.9652 -2.4868     0  0.9161  1.1315 -0.1245  0.8501 -0.1833  0.1374 -0.8562  0.9956     0 -1.0688 -3.4479  1.6635 -3.7234  0.2133 -2.7552 -6.406  2.8853 -1.6398 -0.9228  0.2461 -0.5705  0.7586 -1.3449  2.7187 -7.2018 -5.4378 -29.9903  1.0609 -24.0551  5.2406  1.581  10.1885  1.7623  6.8812  1.5181  3.9664  11.1012  6.0555  21.5615  15.5886  34.2722\n"
     ]
    }
   ],
   "source": [
    "get_sentiment_change_mean(\"C:\\\\Users\\\\20211487\\\\index_testing\\\\conversations_total_BA.csv\")\n"
   ]
  },
  {
   "cell_type": "code",
   "execution_count": 29,
   "id": "48e03d49",
   "metadata": {},
   "outputs": [
    {
     "name": "stdout",
     "output_type": "stream",
     "text": [
      "      3       4       5       6       7       8       9      10      11      12      13      14      15      16     17      18      19   20      21      22      24      25     26      27      28      29      30     31       32      33     34      35      37      38      40      41      42      43      44     48      51      52      53       54      55      57       62      64      73      75     77      87     94      103     138     149     152     153     160     174     221     223     391      460     463\n",
      "0  0.3543  0.0206  0.4176  0.3182 -0.4215  0.9513  0.3466 -0.194  0.9993  0.7372 -1.0538 -0.1991  0.9047 -0.2064  0.642  5.1071 -0.5369    0 -5.2747  4.3807  3.1161  0.1402 -0.404  1.6029  0.7727  2.2836  1.7251  3.874 -18.3964  0.9008 -3.037 -1.8426 -5.3577 -1.0669 -3.2572  7.5693  5.0177 -5.9237 -4.5454  0.003 -7.7969 -6.3602 -2.9909  14.0277 -7.7531  1.5053 -11.9228  9.8542  2.6905  0.1455  5.966  1.5709 -3.471  8.0288 -0.9017 -5.1181  2.8226  5.0259  2.0916  3.2328 -7.4987  2.2806 -5.8521  39.4697 -9.7079\n"
     ]
    }
   ],
   "source": [
    "get_sentiment_change_mean(\"C:\\\\Users\\\\20211487\\\\index_testing\\\\conversations_total_KLM.csv\")\n"
   ]
  },
  {
   "cell_type": "code",
   "execution_count": null,
   "id": "40f86742",
   "metadata": {
    "scrolled": false
   },
   "outputs": [],
   "source": [
    "get_sentiment_change_mean(\"C:\\\\Users\\\\20211487\\\\index_testing\\\\conversations_total_AirFrance.csv\")\n"
   ]
  },
  {
   "cell_type": "code",
   "execution_count": null,
   "id": "eaac901a",
   "metadata": {},
   "outputs": [],
   "source": [
    "get_sentiment_change_mean(\"C:\\\\Users\\\\20211487\\\\index_testing\\\\conversations_total_AmericanAir.csv\")\n"
   ]
  },
  {
   "cell_type": "code",
   "execution_count": null,
   "id": "a147b7cb",
   "metadata": {},
   "outputs": [],
   "source": [
    "get_sentiment_change_mean(\"C:\\\\Users\\\\20211487\\\\index_testing\\\\conversations_total_EtihadAirways.csv\")\n"
   ]
  },
  {
   "cell_type": "code",
   "execution_count": null,
   "id": "1ba6a021",
   "metadata": {},
   "outputs": [],
   "source": [
    "get_sentiment_change_mean(\"C:\\\\Users\\\\20211487\\\\index_testing\\\\conversations_total_Lufthansa.csv\")\n"
   ]
  },
  {
   "cell_type": "code",
   "execution_count": null,
   "id": "b6c80fb4",
   "metadata": {},
   "outputs": [],
   "source": [
    "get_sentiment_change_mean(\"C:\\\\Users\\\\20211487\\\\index_testing\\\\conversations_total_Qantas.csv\")\n"
   ]
  },
  {
   "cell_type": "code",
   "execution_count": null,
   "id": "e8c0f5b7",
   "metadata": {},
   "outputs": [],
   "source": [
    "get_sentiment_change_mean(\"C:\\\\Users\\\\20211487\\\\index_testing\\\\conversations_total_RyanAir.csv\")\n"
   ]
  },
  {
   "cell_type": "code",
   "execution_count": null,
   "id": "c36c6da0",
   "metadata": {},
   "outputs": [],
   "source": [
    "get_sentiment_change_mean(\"C:\\\\Users\\\\20211487\\\\index_testing\\\\conversations_total_SingaporeAir.csv\")\n"
   ]
  }
 ],
 "metadata": {
  "kernelspec": {
   "display_name": "Python 3 (ipykernel)",
   "language": "python",
   "name": "python3"
  },
  "language_info": {
   "codemirror_mode": {
    "name": "ipython",
    "version": 3
   },
   "file_extension": ".py",
   "mimetype": "text/x-python",
   "name": "python",
   "nbconvert_exporter": "python",
   "pygments_lexer": "ipython3",
   "version": "3.10.8"
  }
 },
 "nbformat": 4,
 "nbformat_minor": 5
}
