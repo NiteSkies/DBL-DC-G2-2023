{
 "cells": [
  {
   "cell_type": "code",
   "execution_count": 1,
   "id": "7b0cf53f",
   "metadata": {},
   "outputs": [],
   "source": [
    "import pandas as pd\n",
    "import numpy as np\n",
    "from collections import defaultdict\n",
    "from collections import OrderedDict\n",
    "from vaderSentiment.vaderSentiment import SentimentIntensityAnalyzer\n",
    "\n",
    "def get_sentiment_change_mean(path):\n",
    "    df_conversations = pd.read_csv(path,\n",
    "                                 dtype={'id_str': 'str',\n",
    "                                        'in_reply_to_screen_name':'str',\n",
    "                                        'in_reply_to_status_id_str': 'str',\n",
    "                                        'in_reply_to_user_id_str': 'str',\n",
    "                                        'text': 'str',\n",
    "                                        'timestamp_ms': 'float64',\n",
    "                                        'user.id_str': 'str',\n",
    "                                        'user.screen_name': 'str',\n",
    "                                        'group_id': 'int'})\n",
    "    \n",
    "    # Add the second index for each reply within each group\n",
    "    df_conversations['reply_index'] = df_conversations.groupby('group_index').cumcount() + 1\n",
    "    \n",
    "\n",
    "    # Set the two indexes for the DataFrame\n",
    "    df_conversations.set_index(['group_index'], inplace=True)\n",
    "\n",
    "    analyzer = SentimentIntensityAnalyzer()\n",
    "\n",
    "    # Define a function to get the compound score for a sentence. Its range is from -1 to 1, with -1 being negative and 1 being positive. The range [-0.05, 0.05] is considered as neutral\n",
    "    def get_sentiment_score(text):\n",
    "        sentiment = analyzer.polarity_scores(text)\n",
    "        return sentiment['compound']\n",
    "\n",
    "\n",
    "    df_conversations['sentiment'] = df_conversations['text'].apply(get_sentiment_score)\n",
    "    \n",
    "    # Grouping by the first index of the MultiIndex\n",
    "    grouped = df_conversations.groupby(level=0)\n",
    "\n",
    "    # Filter conversations with at least 3 tweets\n",
    "    filtered = grouped.filter(lambda x: len(x) >= 3)\n",
    "    \n",
    "    # Get the first level of the MultiIndex\n",
    "    first_index = filtered.index.get_level_values(0)\n",
    "    first_index_list = first_index.tolist()\n",
    "    \n",
    "    # Count number of tweets per convo, stored in dictionary\n",
    "    consecutive_counter = {i : first_index_list.count(i) for i in first_index_list}\n",
    "    # Create a sorted and ordered dictionary of length keys and convo index values\n",
    "    res = defaultdict(list)\n",
    "    for key, val in sorted(consecutive_counter.items()):\n",
    "        res[val].append(key)\n",
    "    dict1 = OrderedDict(sorted(res.items()))\n",
    "    \n",
    "    \n",
    "    key_list = list(dict1.keys())\n",
    "        \n",
    "    value_list = list(dict1.values())\n",
    "                           \n",
    "    sentiment_list = {}\n",
    "    for keys in range(0, len(key_list)):\n",
    "        for vals in value_list[keys]:\n",
    "            temp = []\n",
    "            for _, id_variable in filtered.loc[vals].iterrows():\n",
    "                sentiment_variable = id_variable['sentiment']\n",
    "                for index, value in filtered.loc[vals][::-1].iterrows():\n",
    "                    if (value['id_str'] == id_variable['id_str']):\n",
    "                        break\n",
    "                    if (value['user.id_str'] == id_variable['user.id_str']):\n",
    "                        temp.append(value['sentiment'] - sentiment_variable)\n",
    "                        break\n",
    "            sentiment_list[key_list[keys]] = (sum(temp))\n",
    "\n",
    "\n",
    "    print(sentiment_list)"
   ]
  },
  {
   "cell_type": "code",
   "execution_count": 2,
   "id": "40f86742",
   "metadata": {
    "scrolled": false
   },
   "outputs": [
    {
     "name": "stdout",
     "output_type": "stream",
     "text": [
      "{3: -0.1531, 4: 1.1372999999999998, 5: -0.10439999999999999, 6: 0.3967, 7: -0.10120000000000007, 8: -0.04610000000000003, 9: -0.09739999999999999, 10: 0.3120000000000001, 11: 0.5232999999999999, 12: 1.2467000000000001, 13: -1.077, 15: -5.4487000000000005, 16: 2.347, 17: 0.19830000000000003, 20: -3.4629000000000003, 23: -1.5604, 26: -0.5633999999999999, 27: 0.05249999999999999, 30: 3.0841999999999996, 51: -8.665600000000001, 111: -1.0876000000000001, 182: 8.8074, 187: -9.0188}\n"
     ]
    }
   ],
   "source": [
    "get_sentiment_change_mean(\"C:\\\\Users\\\\20211487\\\\index_testing\\\\conversations_total_AirFrance.csv\")\n"
   ]
  },
  {
   "cell_type": "code",
   "execution_count": 3,
   "id": "eaac901a",
   "metadata": {},
   "outputs": [
    {
     "ename": "KeyboardInterrupt",
     "evalue": "",
     "output_type": "error",
     "traceback": [
      "\u001b[1;31m---------------------------------------------------------------------------\u001b[0m",
      "\u001b[1;31mKeyboardInterrupt\u001b[0m                         Traceback (most recent call last)",
      "\u001b[1;32mc:\\Users\\20211487\\index_testing\\Untitled.ipynb Cell 3\u001b[0m in \u001b[0;36m<module>\u001b[1;34m\u001b[0m\n\u001b[1;32m----> <a href='vscode-notebook-cell:/c%3A/Users/20211487/index_testing/Untitled.ipynb#W2sZmlsZQ%3D%3D?line=0'>1</a>\u001b[0m get_sentiment_change_mean(\u001b[39m\"\u001b[39;49m\u001b[39mC:\u001b[39;49m\u001b[39m\\\\\u001b[39;49;00m\u001b[39mUsers\u001b[39;49m\u001b[39m\\\\\u001b[39;49;00m\u001b[39m20211487\u001b[39;49m\u001b[39m\\\\\u001b[39;49;00m\u001b[39mindex_testing\u001b[39;49m\u001b[39m\\\\\u001b[39;49;00m\u001b[39mconversations_total_AmericanAir.csv\u001b[39;49m\u001b[39m\"\u001b[39;49m)\n",
      "\u001b[1;32mc:\\Users\\20211487\\index_testing\\Untitled.ipynb Cell 3\u001b[0m in \u001b[0;36mget_sentiment_change_mean\u001b[1;34m(path)\u001b[0m\n\u001b[0;32m     <a href='vscode-notebook-cell:/c%3A/Users/20211487/index_testing/Untitled.ipynb#W2sZmlsZQ%3D%3D?line=29'>30</a>\u001b[0m     sentiment \u001b[39m=\u001b[39m analyzer\u001b[39m.\u001b[39mpolarity_scores(text)\n\u001b[0;32m     <a href='vscode-notebook-cell:/c%3A/Users/20211487/index_testing/Untitled.ipynb#W2sZmlsZQ%3D%3D?line=30'>31</a>\u001b[0m     \u001b[39mreturn\u001b[39;00m sentiment[\u001b[39m'\u001b[39m\u001b[39mcompound\u001b[39m\u001b[39m'\u001b[39m]\n\u001b[1;32m---> <a href='vscode-notebook-cell:/c%3A/Users/20211487/index_testing/Untitled.ipynb#W2sZmlsZQ%3D%3D?line=33'>34</a>\u001b[0m df_conversations[\u001b[39m'\u001b[39m\u001b[39msentiment\u001b[39m\u001b[39m'\u001b[39m] \u001b[39m=\u001b[39m df_conversations[\u001b[39m'\u001b[39;49m\u001b[39mtext\u001b[39;49m\u001b[39m'\u001b[39;49m]\u001b[39m.\u001b[39;49mapply(get_sentiment_score)\n\u001b[0;32m     <a href='vscode-notebook-cell:/c%3A/Users/20211487/index_testing/Untitled.ipynb#W2sZmlsZQ%3D%3D?line=35'>36</a>\u001b[0m \u001b[39m# Grouping by the first index of the MultiIndex\u001b[39;00m\n\u001b[0;32m     <a href='vscode-notebook-cell:/c%3A/Users/20211487/index_testing/Untitled.ipynb#W2sZmlsZQ%3D%3D?line=36'>37</a>\u001b[0m grouped \u001b[39m=\u001b[39m df_conversations\u001b[39m.\u001b[39mgroupby(level\u001b[39m=\u001b[39m\u001b[39m0\u001b[39m)\n",
      "File \u001b[1;32m~\\AppData\\Local\\Packages\\PythonSoftwareFoundation.Python.3.10_qbz5n2kfra8p0\\LocalCache\\local-packages\\Python310\\site-packages\\pandas\\core\\series.py:4626\u001b[0m, in \u001b[0;36mSeries.apply\u001b[1;34m(self, func, convert_dtype, args, **kwargs)\u001b[0m\n\u001b[0;32m   4516\u001b[0m \u001b[39mdef\u001b[39;00m \u001b[39mapply\u001b[39m(\n\u001b[0;32m   4517\u001b[0m     \u001b[39mself\u001b[39m,\n\u001b[0;32m   4518\u001b[0m     func: AggFuncType,\n\u001b[1;32m   (...)\u001b[0m\n\u001b[0;32m   4521\u001b[0m     \u001b[39m*\u001b[39m\u001b[39m*\u001b[39mkwargs,\n\u001b[0;32m   4522\u001b[0m ) \u001b[39m-\u001b[39m\u001b[39m>\u001b[39m DataFrame \u001b[39m|\u001b[39m Series:\n\u001b[0;32m   4523\u001b[0m     \u001b[39m\"\"\"\u001b[39;00m\n\u001b[0;32m   4524\u001b[0m \u001b[39m    Invoke function on values of Series.\u001b[39;00m\n\u001b[0;32m   4525\u001b[0m \n\u001b[1;32m   (...)\u001b[0m\n\u001b[0;32m   4624\u001b[0m \u001b[39m    dtype: float64\u001b[39;00m\n\u001b[0;32m   4625\u001b[0m \u001b[39m    \"\"\"\u001b[39;00m\n\u001b[1;32m-> 4626\u001b[0m     \u001b[39mreturn\u001b[39;00m SeriesApply(\u001b[39mself\u001b[39;49m, func, convert_dtype, args, kwargs)\u001b[39m.\u001b[39;49mapply()\n",
      "File \u001b[1;32m~\\AppData\\Local\\Packages\\PythonSoftwareFoundation.Python.3.10_qbz5n2kfra8p0\\LocalCache\\local-packages\\Python310\\site-packages\\pandas\\core\\apply.py:1025\u001b[0m, in \u001b[0;36mSeriesApply.apply\u001b[1;34m(self)\u001b[0m\n\u001b[0;32m   1022\u001b[0m     \u001b[39mreturn\u001b[39;00m \u001b[39mself\u001b[39m\u001b[39m.\u001b[39mapply_str()\n\u001b[0;32m   1024\u001b[0m \u001b[39m# self.f is Callable\u001b[39;00m\n\u001b[1;32m-> 1025\u001b[0m \u001b[39mreturn\u001b[39;00m \u001b[39mself\u001b[39;49m\u001b[39m.\u001b[39;49mapply_standard()\n",
      "File \u001b[1;32m~\\AppData\\Local\\Packages\\PythonSoftwareFoundation.Python.3.10_qbz5n2kfra8p0\\LocalCache\\local-packages\\Python310\\site-packages\\pandas\\core\\apply.py:1076\u001b[0m, in \u001b[0;36mSeriesApply.apply_standard\u001b[1;34m(self)\u001b[0m\n\u001b[0;32m   1074\u001b[0m     \u001b[39melse\u001b[39;00m:\n\u001b[0;32m   1075\u001b[0m         values \u001b[39m=\u001b[39m obj\u001b[39m.\u001b[39mastype(\u001b[39mobject\u001b[39m)\u001b[39m.\u001b[39m_values\n\u001b[1;32m-> 1076\u001b[0m         mapped \u001b[39m=\u001b[39m lib\u001b[39m.\u001b[39;49mmap_infer(\n\u001b[0;32m   1077\u001b[0m             values,\n\u001b[0;32m   1078\u001b[0m             f,\n\u001b[0;32m   1079\u001b[0m             convert\u001b[39m=\u001b[39;49m\u001b[39mself\u001b[39;49m\u001b[39m.\u001b[39;49mconvert_dtype,\n\u001b[0;32m   1080\u001b[0m         )\n\u001b[0;32m   1082\u001b[0m \u001b[39mif\u001b[39;00m \u001b[39mlen\u001b[39m(mapped) \u001b[39mand\u001b[39;00m \u001b[39misinstance\u001b[39m(mapped[\u001b[39m0\u001b[39m], ABCSeries):\n\u001b[0;32m   1083\u001b[0m     \u001b[39m# GH#43986 Need to do list(mapped) in order to get treated as nested\u001b[39;00m\n\u001b[0;32m   1084\u001b[0m     \u001b[39m#  See also GH#25959 regarding EA support\u001b[39;00m\n\u001b[0;32m   1085\u001b[0m     \u001b[39mreturn\u001b[39;00m obj\u001b[39m.\u001b[39m_constructor_expanddim(\u001b[39mlist\u001b[39m(mapped), index\u001b[39m=\u001b[39mobj\u001b[39m.\u001b[39mindex)\n",
      "File \u001b[1;32m~\\AppData\\Local\\Packages\\PythonSoftwareFoundation.Python.3.10_qbz5n2kfra8p0\\LocalCache\\local-packages\\Python310\\site-packages\\pandas\\_libs\\lib.pyx:2834\u001b[0m, in \u001b[0;36mpandas._libs.lib.map_infer\u001b[1;34m()\u001b[0m\n",
      "\u001b[1;32mc:\\Users\\20211487\\index_testing\\Untitled.ipynb Cell 3\u001b[0m in \u001b[0;36mget_sentiment_change_mean.<locals>.get_sentiment_score\u001b[1;34m(text)\u001b[0m\n\u001b[0;32m     <a href='vscode-notebook-cell:/c%3A/Users/20211487/index_testing/Untitled.ipynb#W2sZmlsZQ%3D%3D?line=28'>29</a>\u001b[0m \u001b[39mdef\u001b[39;00m \u001b[39mget_sentiment_score\u001b[39m(text):\n\u001b[1;32m---> <a href='vscode-notebook-cell:/c%3A/Users/20211487/index_testing/Untitled.ipynb#W2sZmlsZQ%3D%3D?line=29'>30</a>\u001b[0m     sentiment \u001b[39m=\u001b[39m analyzer\u001b[39m.\u001b[39;49mpolarity_scores(text)\n\u001b[0;32m     <a href='vscode-notebook-cell:/c%3A/Users/20211487/index_testing/Untitled.ipynb#W2sZmlsZQ%3D%3D?line=30'>31</a>\u001b[0m     \u001b[39mreturn\u001b[39;00m sentiment[\u001b[39m'\u001b[39m\u001b[39mcompound\u001b[39m\u001b[39m'\u001b[39m]\n",
      "File \u001b[1;32m~\\AppData\\Local\\Packages\\PythonSoftwareFoundation.Python.3.10_qbz5n2kfra8p0\\LocalCache\\local-packages\\Python310\\site-packages\\vaderSentiment\\vaderSentiment.py:269\u001b[0m, in \u001b[0;36mSentimentIntensityAnalyzer.polarity_scores\u001b[1;34m(self, text)\u001b[0m\n\u001b[0;32m    266\u001b[0m         sentiments\u001b[39m.\u001b[39mappend(valence)\n\u001b[0;32m    267\u001b[0m         \u001b[39mcontinue\u001b[39;00m\n\u001b[1;32m--> 269\u001b[0m     sentiments \u001b[39m=\u001b[39m \u001b[39mself\u001b[39;49m\u001b[39m.\u001b[39;49msentiment_valence(valence, sentitext, item, i, sentiments)\n\u001b[0;32m    271\u001b[0m sentiments \u001b[39m=\u001b[39m \u001b[39mself\u001b[39m\u001b[39m.\u001b[39m_but_check(words_and_emoticons, sentiments)\n\u001b[0;32m    273\u001b[0m valence_dict \u001b[39m=\u001b[39m \u001b[39mself\u001b[39m\u001b[39m.\u001b[39mscore_valence(sentiments, text)\n",
      "File \u001b[1;32m~\\AppData\\Local\\Packages\\PythonSoftwareFoundation.Python.3.10_qbz5n2kfra8p0\\LocalCache\\local-packages\\Python310\\site-packages\\vaderSentiment\\vaderSentiment.py:312\u001b[0m, in \u001b[0;36mSentimentIntensityAnalyzer.sentiment_valence\u001b[1;34m(self, valence, sentitext, item, i, sentiments)\u001b[0m\n\u001b[0;32m    310\u001b[0m     s \u001b[39m=\u001b[39m s \u001b[39m*\u001b[39m \u001b[39m0.9\u001b[39m\n\u001b[0;32m    311\u001b[0m valence \u001b[39m=\u001b[39m valence \u001b[39m+\u001b[39m s\n\u001b[1;32m--> 312\u001b[0m valence \u001b[39m=\u001b[39m \u001b[39mself\u001b[39;49m\u001b[39m.\u001b[39;49m_negation_check(valence, words_and_emoticons, start_i, i)\n\u001b[0;32m    313\u001b[0m \u001b[39mif\u001b[39;00m start_i \u001b[39m==\u001b[39m \u001b[39m2\u001b[39m:\n\u001b[0;32m    314\u001b[0m     valence \u001b[39m=\u001b[39m \u001b[39mself\u001b[39m\u001b[39m.\u001b[39m_special_idioms_check(valence, words_and_emoticons, i)\n",
      "File \u001b[1;32m~\\AppData\\Local\\Packages\\PythonSoftwareFoundation.Python.3.10_qbz5n2kfra8p0\\LocalCache\\local-packages\\Python310\\site-packages\\vaderSentiment\\vaderSentiment.py:402\u001b[0m, in \u001b[0;36mSentimentIntensityAnalyzer._negation_check\u001b[1;34m(valence, words_and_emoticons, start_i, i)\u001b[0m\n\u001b[0;32m    400\u001b[0m \u001b[39m@staticmethod\u001b[39m\n\u001b[0;32m    401\u001b[0m \u001b[39mdef\u001b[39;00m \u001b[39m_negation_check\u001b[39m(valence, words_and_emoticons, start_i, i):\n\u001b[1;32m--> 402\u001b[0m     words_and_emoticons_lower \u001b[39m=\u001b[39m [\u001b[39mstr\u001b[39m(w)\u001b[39m.\u001b[39mlower() \u001b[39mfor\u001b[39;00m w \u001b[39min\u001b[39;00m words_and_emoticons]\n\u001b[0;32m    403\u001b[0m     \u001b[39mif\u001b[39;00m start_i \u001b[39m==\u001b[39m \u001b[39m0\u001b[39m:\n\u001b[0;32m    404\u001b[0m         \u001b[39mif\u001b[39;00m negated([words_and_emoticons_lower[i \u001b[39m-\u001b[39m (start_i \u001b[39m+\u001b[39m \u001b[39m1\u001b[39m)]]):  \u001b[39m# 1 word preceding lexicon word (w/o stopwords)\u001b[39;00m\n",
      "File \u001b[1;32m~\\AppData\\Local\\Packages\\PythonSoftwareFoundation.Python.3.10_qbz5n2kfra8p0\\LocalCache\\local-packages\\Python310\\site-packages\\vaderSentiment\\vaderSentiment.py:402\u001b[0m, in \u001b[0;36m<listcomp>\u001b[1;34m(.0)\u001b[0m\n\u001b[0;32m    400\u001b[0m \u001b[39m@staticmethod\u001b[39m\n\u001b[0;32m    401\u001b[0m \u001b[39mdef\u001b[39;00m \u001b[39m_negation_check\u001b[39m(valence, words_and_emoticons, start_i, i):\n\u001b[1;32m--> 402\u001b[0m     words_and_emoticons_lower \u001b[39m=\u001b[39m [\u001b[39mstr\u001b[39m(w)\u001b[39m.\u001b[39mlower() \u001b[39mfor\u001b[39;00m w \u001b[39min\u001b[39;00m words_and_emoticons]\n\u001b[0;32m    403\u001b[0m     \u001b[39mif\u001b[39;00m start_i \u001b[39m==\u001b[39m \u001b[39m0\u001b[39m:\n\u001b[0;32m    404\u001b[0m         \u001b[39mif\u001b[39;00m negated([words_and_emoticons_lower[i \u001b[39m-\u001b[39m (start_i \u001b[39m+\u001b[39m \u001b[39m1\u001b[39m)]]):  \u001b[39m# 1 word preceding lexicon word (w/o stopwords)\u001b[39;00m\n",
      "\u001b[1;31mKeyboardInterrupt\u001b[0m: "
     ]
    }
   ],
   "source": [
    "get_sentiment_change_mean(\"C:\\\\Users\\\\20211487\\\\index_testing\\\\conversations_total_AmericanAir.csv\")\n"
   ]
  },
  {
   "cell_type": "code",
   "execution_count": 4,
   "id": "4f52312a",
   "metadata": {},
   "outputs": [
    {
     "name": "stdout",
     "output_type": "stream",
     "text": [
      "{3: 0.3942, 4: 0, 5: 0.0, 6: -0.5522, 7: 0.6644, 8: -0.09599999999999986, 9: -0.15249999999999997, 10: -1.0558999999999998, 11: 6.4521999999999995, 12: 2.7364000000000006, 13: 2.5802, 14: 1.4829, 15: 0.3117000000000001, 16: 8.4978, 17: 0.5843, 18: 0.3259, 19: 0, 20: -0.9105000000000003, 21: 0, 23: 1.5657, 24: 0.8444, 25: 1.1170999999999998, 27: 1.7008999999999994, 28: 0.059499999999999775, 29: 4.801399999999999, 32: 6.7189, 33: 0.6869000000000001, 34: 1.8948, 37: -1.9951999999999999, 38: 0.6262000000000001, 39: 0.8867999999999998, 40: -2.4867999999999997, 42: 0.14950000000000002, 43: -3.9202, 45: 0.46759999999999985, 51: -6.2604, 52: -3.7361, 53: 0.6386, 56: 1.5341000000000002, 64: 2.5936999999999997, 65: -1.6451999999999998, 66: -0.521, 69: -1.0009000000000001, 70: -3.9525999999999994, 74: -1.2878, 85: -7.4501, 90: 12.279600000000002, 94: -10.167100000000001, 108: 3.8469000000000015, 111: -6.7082, 112: -5.1351, 118: -0.9228000000000001, 122: -6.999999999999999, 135: -3.8058999999999994, 141: -1.4351000000000003, 160: 4.722600000000001, 167: 14.960900000000002, 185: 11.726400000000007, 198: 17.71500000000001, 231: -53.2936, 234: 35.9306, 252: -14.077199999999992, 269: -15.671800000000003, 282: -30.237400000000008, 353: 38.54110000000001, 379: -19.57059999999999, 625: -70.03829999999995, 752: -12.76009999999998, 760: -12.590000000000002, 1089: 168.33710000000025, 1153: -55.39079999999996, 1540: -21.402100000000033, 1742: -30.997800000000012, 2664: -9.978299999999962}\n"
     ]
    }
   ],
   "source": [
    "get_sentiment_change_mean(\"C:\\\\Users\\\\20211487\\\\index_testing\\\\conversations_total_BA.csv\")\n"
   ]
  },
  {
   "cell_type": "code",
   "execution_count": 5,
   "id": "25513961",
   "metadata": {},
   "outputs": [
    {
     "name": "stdout",
     "output_type": "stream",
     "text": [
      "{3: -0.6363, 4: 0.13680000000000003, 5: -0.0045999999999999375, 6: 0.2136, 7: -1.6171, 8: -0.2178000000000001, 9: 4.0169999999999995, 10: -3.3741000000000003, 11: 5.2075000000000005, 12: 1.3788, 13: -7.1623, 14: -0.34440000000000004, 15: 0.1027, 16: 0.5448, 17: -0.07700000000000001, 18: -2.2493, 19: -1.053, 20: 1.5146000000000002, 21: 0, 22: -3.5548, 23: -0.1522, 24: 0.18389999999999995, 25: 0.9653, 26: 1.4822999999999997, 27: -4.0174, 28: 3.2577, 29: 0.41529999999999995, 30: 1.5912000000000002, 31: -2.0723, 32: -1.577, 33: 1.0448, 34: 3.421400000000001, 35: -0.5566, 36: -0.31379999999999963, 37: 2.1886, 38: -1.2270999999999999, 39: -1.5281999999999998, 41: 2.6900000000000004, 44: -4.2229, 45: -0.2806, 46: 0.8257999999999999, 47: -0.1617999999999995, 48: 0.31310000000000004, 50: -0.34460000000000013, 54: 2.6305, 56: -22.056099999999997, 58: 3.4233000000000002, 59: 0.7212000000000001, 63: 1.4370999999999996, 65: -2.8440000000000003, 67: 1.7076999999999998, 68: 3.6682999999999995, 73: -2.5733000000000006, 83: 2.8870999999999993, 84: 2.8638000000000003, 87: -7.980599999999998, 88: 4.8981, 91: -17.44869999999999, 92: 9.958699999999997, 94: 8.519799999999998, 96: -0.28239999999999993, 99: -16.0907, 109: 1.4024999999999999, 110: -11.8059, 121: -7.833499999999997, 124: 4.4148, 148: 37.4282, 157: 5.1605, 237: -1.7621000000000002, 279: -4.652499999999999, 308: 63.2659, 339: 71.51950000000004, 390: -10.585799999999988, 569: 153.7850000000001}\n"
     ]
    }
   ],
   "source": [
    "get_sentiment_change_mean(\"C:\\\\Users\\\\20211487\\\\index_testing\\\\conversations_total_easyjet.csv\")\n"
   ]
  },
  {
   "cell_type": "code",
   "execution_count": 10,
   "id": "a147b7cb",
   "metadata": {},
   "outputs": [
    {
     "data": {
      "text/plain": [
       "0.15855939393939394"
      ]
     },
     "execution_count": 10,
     "metadata": {},
     "output_type": "execute_result"
    }
   ],
   "source": [
    "get_sentiment_change_mean(\"C:\\\\Users\\\\20211487\\\\index_testing\\\\conversations_total_EtihadAirways.csv\")\n"
   ]
  },
  {
   "cell_type": "code",
   "execution_count": 6,
   "id": "48e03d49",
   "metadata": {},
   "outputs": [
    {
     "name": "stdout",
     "output_type": "stream",
     "text": [
      "{3: 0.3543, 4: 0.02059999999999995, 5: 0.41759999999999997, 6: 0.3182, 7: -0.4215, 8: 0.9512999999999997, 9: 0.3466000000000001, 10: -0.19399999999999995, 11: 0.9993000000000001, 12: 0.7371999999999999, 13: -1.0537999999999998, 14: -0.1991, 15: 0.9047000000000001, 16: -0.20639999999999997, 17: 0.6419999999999999, 18: 5.107099999999999, 19: -0.5368999999999993, 20: 0, 21: -5.274699999999999, 22: 4.3807, 24: 3.1161000000000003, 25: 0.1402, 26: -0.4039999999999999, 27: 1.6029000000000002, 28: 0.7726999999999999, 29: 2.2836, 30: 1.7250999999999999, 31: 3.8739999999999997, 32: -18.3964, 33: 0.9007999999999998, 34: -3.0369999999999995, 35: -1.8425999999999996, 37: -5.3577, 38: -1.0669, 40: -3.257199999999999, 41: 7.5693, 42: 5.0177000000000005, 43: -5.923700000000001, 44: -4.545400000000001, 48: 0.002999999999999281, 51: -7.796899999999998, 52: -6.360200000000002, 53: -2.9909, 54: 14.0277, 55: -7.753100000000001, 57: 1.5052999999999996, 62: -11.9228, 64: 9.854200000000002, 73: 2.6904999999999997, 75: 0.14550000000000024, 77: 5.966, 87: 1.5709, 94: -3.471, 103: 8.028800000000002, 138: -0.9017000000000001, 149: -5.118099999999999, 152: 2.8226000000000004, 153: 5.025900000000001, 160: 2.0915999999999997, 174: 3.2328, 221: -7.4987, 223: 2.2805999999999997, 391: -5.852100000000004, 460: 39.46969999999998, 463: -9.707899999999993}\n"
     ]
    }
   ],
   "source": [
    "get_sentiment_change_mean(\"C:\\\\Users\\\\20211487\\\\index_testing\\\\conversations_total_KLM.csv\")\n"
   ]
  },
  {
   "cell_type": "code",
   "execution_count": 12,
   "id": "1ba6a021",
   "metadata": {},
   "outputs": [
    {
     "data": {
      "text/plain": [
       "0.15900756143667308"
      ]
     },
     "execution_count": 12,
     "metadata": {},
     "output_type": "execute_result"
    }
   ],
   "source": [
    "get_sentiment_change_mean(\"C:\\\\Users\\\\20211487\\\\index_testing\\\\conversations_total_Lufthansa.csv\")\n"
   ]
  },
  {
   "cell_type": "code",
   "execution_count": 13,
   "id": "b6c80fb4",
   "metadata": {},
   "outputs": [
    {
     "data": {
      "text/plain": [
       "0.20893318181818205"
      ]
     },
     "execution_count": 13,
     "metadata": {},
     "output_type": "execute_result"
    }
   ],
   "source": [
    "get_sentiment_change_mean(\"C:\\\\Users\\\\20211487\\\\index_testing\\\\conversations_total_Qantas.csv\")\n"
   ]
  },
  {
   "cell_type": "code",
   "execution_count": 14,
   "id": "e8c0f5b7",
   "metadata": {},
   "outputs": [
    {
     "data": {
      "text/plain": [
       "0.15190481283422486"
      ]
     },
     "execution_count": 14,
     "metadata": {},
     "output_type": "execute_result"
    }
   ],
   "source": [
    "get_sentiment_change_mean(\"C:\\\\Users\\\\20211487\\\\index_testing\\\\conversations_total_RyanAir.csv\")\n"
   ]
  },
  {
   "cell_type": "code",
   "execution_count": 15,
   "id": "c36c6da0",
   "metadata": {},
   "outputs": [
    {
     "data": {
      "text/plain": [
       "0.1847798165137615"
      ]
     },
     "execution_count": 15,
     "metadata": {},
     "output_type": "execute_result"
    }
   ],
   "source": [
    "get_sentiment_change_mean(\"C:\\\\Users\\\\20211487\\\\index_testing\\\\conversations_total_SingaporeAir.csv\")\n"
   ]
  },
  {
   "cell_type": "code",
   "execution_count": 16,
   "id": "bf2f8152",
   "metadata": {},
   "outputs": [
    {
     "data": {
      "text/plain": [
       "0.13421927480916038"
      ]
     },
     "execution_count": 16,
     "metadata": {},
     "output_type": "execute_result"
    }
   ],
   "source": [
    "get_sentiment_change_mean(\"C:\\\\Users\\\\20211487\\\\index_testing\\\\conversations_total_VirginAtlantic.csv\")"
   ]
  }
 ],
 "metadata": {
  "kernelspec": {
   "display_name": "Python 3 (ipykernel)",
   "language": "python",
   "name": "python3"
  },
  "language_info": {
   "codemirror_mode": {
    "name": "ipython",
    "version": 3
   },
   "file_extension": ".py",
   "mimetype": "text/x-python",
   "name": "python",
   "nbconvert_exporter": "python",
   "pygments_lexer": "ipython3",
   "version": "3.10.8"
  }
 },
 "nbformat": 4,
 "nbformat_minor": 5
}
