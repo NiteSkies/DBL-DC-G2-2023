{
 "cells": [
  {
   "cell_type": "code",
   "execution_count": 43,
   "id": "eece972f",
   "metadata": {},
   "outputs": [],
   "source": [
    "import pandas as pd\n",
    "from vaderSentiment.vaderSentiment import SentimentIntensityAnalyzer\n",
    "import datetime\n",
    "\n",
    "given_month = 8\n",
    "\n",
    "def get_sentiment_change_mean(path, airline_id):\n",
    "    df_conversations_raw = pd.read_csv(path,\n",
    "                                 dtype={'id_str': 'str',\n",
    "                                        'in_reply_to_screen_name':'str',\n",
    "                                        'in_reply_to_status_id_str': 'str',\n",
    "                                        'in_reply_to_user_id_str': 'str',\n",
    "                                        'text': 'str',\n",
    "                                        'timestamp_ms': 'float64',\n",
    "                                        'user.id_str': 'str',\n",
    "                                        'user.screen_name': 'str',\n",
    "                                        'group_id': 'int'})\n",
    "    \n",
    "    def timestamp_to_datetime(i):\n",
    "        if len(str(i)) < 13:\n",
    "            a = np.nan\n",
    "        else: \n",
    "            a = datetime.datetime.fromtimestamp(float(i)/1000.0, tz=datetime.timezone.utc)\n",
    "        return a\n",
    "    \n",
    "    df_conversations_raw['date'] = df_conversations_raw['timestamp_ms'].apply(timestamp_to_datetime)\n",
    "    df_conversations = df_conversations_raw[df_conversations_raw['date'].dt.month == given_month]\n",
    "    \n",
    "    df_conversations['group_id'] = df_conversations['in_reply_to_status_id_str'].isnull().cumsum()\n",
    "\n",
    "    # Add the second index for each reply within each group\n",
    "    df_conversations['reply_index'] = df_conversations.groupby('group_id').cumcount() + 1\n",
    "\n",
    "    # Set the two indexes for the DataFrame\n",
    "    df_conversations.set_index(['group_id', 'reply_index'], inplace=True)\n",
    "            \n",
    "\n",
    "    analyzer = SentimentIntensityAnalyzer()\n",
    "\n",
    "    # Define a function to get the compound score for a sentence. Its range is from -1 to 1, with -1 being negative and 1 being positive. The range [-0.05, 0.05] is considered as neutral\n",
    "    def get_sentiment_score(text):\n",
    "        sentiment = analyzer.polarity_scores(text)\n",
    "        return sentiment['compound']\n",
    "\n",
    "\n",
    "    df_conversations['sentiment'] = df_conversations['text'].apply(get_sentiment_score)\n",
    "    \n",
    "    # Grouping by the first index of the MultiIndex\n",
    "    grouped = df_conversations.groupby(level=0)\n",
    "\n",
    "    # Filter conversations with at least 3 tweets\n",
    "    filtered = grouped.filter(lambda x: len(x) >= 3)\n",
    "    # Get the first level of the MultiIndex\n",
    "    first_index = filtered.index.get_level_values(0)\n",
    "\n",
    "    # Convert the first level to a list\n",
    "    index_list = first_index.tolist()\n",
    "    index_list = list(set(index_list))\n",
    "    lst = []\n",
    "    for i in index_list:\n",
    "        for j in range(1,len(filtered.loc[i])):\n",
    "            if (filtered.loc[i,j].loc['user.id_str'] != airline_id):\n",
    "                id_variable = filtered.loc[i,j].loc['user.id_str']\n",
    "                sentiment_variable = filtered.loc[i,j].loc['sentiment']\n",
    "                for x in range(len(filtered.loc[i]),j+1,-1):\n",
    "                    if (filtered.loc[i,x].loc['user.id_str'] == id_variable):\n",
    "                        lst.append(filtered.loc[i,x].loc['sentiment'] - sentiment_variable)\n",
    "                        break              \n",
    "            break\n",
    "    return sum(lst)/len(lst)\n"
   ]
  },
  {
   "cell_type": "code",
   "execution_count": 45,
   "id": "5288205c",
   "metadata": {},
   "outputs": [
    {
     "name": "stderr",
     "output_type": "stream",
     "text": [
      "C:\\Users\\sliwi\\AppData\\Local\\Temp/ipykernel_1640/3110955455.py:29: SettingWithCopyWarning: \n",
      "A value is trying to be set on a copy of a slice from a DataFrame.\n",
      "Try using .loc[row_indexer,col_indexer] = value instead\n",
      "\n",
      "See the caveats in the documentation: https://pandas.pydata.org/pandas-docs/stable/user_guide/indexing.html#returning-a-view-versus-a-copy\n",
      "  df_conversations['group_id'] = df_conversations['in_reply_to_status_id_str'].isnull().cumsum()\n",
      "C:\\Users\\sliwi\\AppData\\Local\\Temp/ipykernel_1640/3110955455.py:32: SettingWithCopyWarning: \n",
      "A value is trying to be set on a copy of a slice from a DataFrame.\n",
      "Try using .loc[row_indexer,col_indexer] = value instead\n",
      "\n",
      "See the caveats in the documentation: https://pandas.pydata.org/pandas-docs/stable/user_guide/indexing.html#returning-a-view-versus-a-copy\n",
      "  df_conversations['reply_index'] = df_conversations.groupby('group_id').cumcount() + 1\n",
      "C:\\Users\\sliwi\\AppData\\Local\\Temp/ipykernel_1640/3110955455.py:46: SettingWithCopyWarning: \n",
      "A value is trying to be set on a copy of a slice from a DataFrame.\n",
      "Try using .loc[row_indexer,col_indexer] = value instead\n",
      "\n",
      "See the caveats in the documentation: https://pandas.pydata.org/pandas-docs/stable/user_guide/indexing.html#returning-a-view-versus-a-copy\n",
      "  df_conversations['sentiment'] = df_conversations['text'].apply(get_sentiment_score)\n"
     ]
    }
   ],
   "source": [
    "American_mean = get_sentiment_change_mean(r\"C:\\Users\\sliwi\\Documents\\Courses\\conversations_total_AmericanAir.csv\", '22536055')"
   ]
  },
  {
   "cell_type": "code",
   "execution_count": 46,
   "id": "61f91256",
   "metadata": {},
   "outputs": [
    {
     "name": "stderr",
     "output_type": "stream",
     "text": [
      "C:\\Users\\sliwi\\AppData\\Local\\Temp/ipykernel_1640/3110955455.py:29: SettingWithCopyWarning: \n",
      "A value is trying to be set on a copy of a slice from a DataFrame.\n",
      "Try using .loc[row_indexer,col_indexer] = value instead\n",
      "\n",
      "See the caveats in the documentation: https://pandas.pydata.org/pandas-docs/stable/user_guide/indexing.html#returning-a-view-versus-a-copy\n",
      "  df_conversations['group_id'] = df_conversations['in_reply_to_status_id_str'].isnull().cumsum()\n",
      "C:\\Users\\sliwi\\AppData\\Local\\Temp/ipykernel_1640/3110955455.py:32: SettingWithCopyWarning: \n",
      "A value is trying to be set on a copy of a slice from a DataFrame.\n",
      "Try using .loc[row_indexer,col_indexer] = value instead\n",
      "\n",
      "See the caveats in the documentation: https://pandas.pydata.org/pandas-docs/stable/user_guide/indexing.html#returning-a-view-versus-a-copy\n",
      "  df_conversations['reply_index'] = df_conversations.groupby('group_id').cumcount() + 1\n",
      "C:\\Users\\sliwi\\AppData\\Local\\Temp/ipykernel_1640/3110955455.py:46: SettingWithCopyWarning: \n",
      "A value is trying to be set on a copy of a slice from a DataFrame.\n",
      "Try using .loc[row_indexer,col_indexer] = value instead\n",
      "\n",
      "See the caveats in the documentation: https://pandas.pydata.org/pandas-docs/stable/user_guide/indexing.html#returning-a-view-versus-a-copy\n",
      "  df_conversations['sentiment'] = df_conversations['text'].apply(get_sentiment_score)\n"
     ]
    }
   ],
   "source": [
    "British_Airways_mean = get_sentiment_change_mean(r\"C:\\Users\\sliwi\\Documents\\Courses\\conversations_total_BA.csv\", '18332190')"
   ]
  },
  {
   "cell_type": "code",
   "execution_count": 10,
   "id": "c5734688",
   "metadata": {},
   "outputs": [],
   "source": [
    "Air_France_mean = get_sentiment_change_mean(r\"C:\\Users\\sliwi\\Documents\\Courses\\conversations_total_AirFrance.csv\", '106062176')"
   ]
  },
  {
   "cell_type": "code",
   "execution_count": 11,
   "id": "561a0e5b",
   "metadata": {},
   "outputs": [],
   "source": [
    "KLM_mean = get_sentiment_change_mean(r\"C:\\Users\\sliwi\\Documents\\Courses\\conversations_total_KLM.csv\", '56377143')"
   ]
  },
  {
   "cell_type": "code",
   "execution_count": 12,
   "id": "11a54a8d",
   "metadata": {},
   "outputs": [],
   "source": [
    "Lufthansa_mean = get_sentiment_change_mean(r\"C:\\Users\\sliwi\\Documents\\Courses\\conversations_total_Lufthansa.csv\", '124476322')"
   ]
  },
  {
   "cell_type": "code",
   "execution_count": 13,
   "id": "ddc95c49",
   "metadata": {},
   "outputs": [],
   "source": [
    "easyJet_mean = get_sentiment_change_mean(r\"C:\\Users\\sliwi\\Documents\\Courses\\conversations_total_easyJet.csv\", '38676903')"
   ]
  },
  {
   "cell_type": "code",
   "execution_count": 14,
   "id": "33dcdfe2",
   "metadata": {},
   "outputs": [],
   "source": [
    "RyanAir_mean = get_sentiment_change_mean(r\"C:\\Users\\sliwi\\Documents\\Courses\\conversations_total_RyanAir.csv\", '1542862735')"
   ]
  },
  {
   "cell_type": "code",
   "execution_count": 15,
   "id": "8c4da62b",
   "metadata": {},
   "outputs": [],
   "source": [
    "SingaporeAir_mean = get_sentiment_change_mean(r\"C:\\Users\\sliwi\\Documents\\Courses\\conversations_total_SingaporeAir.csv\", '253340062')"
   ]
  },
  {
   "cell_type": "code",
   "execution_count": 16,
   "id": "915763fe",
   "metadata": {},
   "outputs": [],
   "source": [
    "Qantas_mean = get_sentiment_change_mean(r\"C:\\Users\\sliwi\\Documents\\Courses\\conversations_total_Qantas.csv\", '218730857')"
   ]
  },
  {
   "cell_type": "code",
   "execution_count": 17,
   "id": "414bbc07",
   "metadata": {},
   "outputs": [],
   "source": [
    "EtihadAirways_mean = get_sentiment_change_mean(r\"C:\\Users\\sliwi\\Documents\\Courses\\conversations_total_EtihadAirways.csv\", '45621423')"
   ]
  },
  {
   "cell_type": "code",
   "execution_count": 18,
   "id": "7ad30bd2",
   "metadata": {},
   "outputs": [],
   "source": [
    "VirginAtlantic_mean = get_sentiment_change_mean(r\"C:\\Users\\sliwi\\Documents\\Courses\\conversations_total_VirginAtlantic.csv\", '20626359')"
   ]
  },
  {
   "cell_type": "code",
   "execution_count": 19,
   "id": "1ec7f5df",
   "metadata": {},
   "outputs": [],
   "source": [
    "sentiment_change_means = [[American_mean], [British_Airways_mean], [Air_France_mean], [KLM_mean], [Lufthansa_mean], [easyJet_mean], [RyanAir_mean], [SingaporeAir_mean], [Qantas_mean], [EtihadAirways_mean], [VirginAtlantic_mean]]"
   ]
  },
  {
   "cell_type": "code",
   "execution_count": 20,
   "id": "dd265626",
   "metadata": {},
   "outputs": [],
   "source": [
    "list_names = ['American', 'British_Airways', 'Air_France', 'KLM', 'Lufthansa', 'easyJet', 'RyanAir', 'SingaporeAir', 'Qantas', 'EtihadAirways', 'VirginAtlantic']"
   ]
  },
  {
   "cell_type": "code",
   "execution_count": 21,
   "id": "6be028a5",
   "metadata": {},
   "outputs": [
    {
     "data": {
      "text/plain": [
       "Text(0, 0.5, 'Avarage sentiment change')"
      ]
     },
     "execution_count": 21,
     "metadata": {},
     "output_type": "execute_result"
    },
    {
     "data": {
      "image/png": "[encoded data removed]",
      "text/plain": [
       "<Figure size 432x288 with 1 Axes>"
      ]
     },
     "metadata": {
      "needs_background": "light"
     },
     "output_type": "display_data"
    }
   ],
   "source": [
    "import matplotlib.pyplot as plt\n",
    "dict_sentiment_change = {i:j for i,j in zip(list_names, sentiment_change_means)}\n",
    "sentiment_change_per_airline = pd.DataFrame(dict_sentiment_change).transpose()\n",
    "sentiment_change_per_airline = sentiment_change_per_airline.rename(columns = {0:'Mean Sentiment change'})\n",
    "colours = ['blue', 'red', 'blue', 'cyan', 'blue', 'blue', 'blue', 'blue', 'blue', 'blue', 'blue']\n",
    "dict_colours = {i:j for i,j in zip(list_names, colours)}\n",
    "fig1 = plt.figure(1)\n",
    "plt.xticks(rotation=90)\n",
    "plt.bar(sentiment_change_per_airline.index, sentiment_change_per_airline['Mean Sentiment change'], color=colours)\n",
    "plt.title('Sentiment change in conversations per airline')\n",
    "plt.xlabel('Airlines')\n",
    "plt.ylabel('Avarage sentiment change')\n",
    "\n"
   ]
  }
 ],
 "metadata": {
  "kernelspec": {
   "display_name": "Python 3 (ipykernel)",
   "language": "python",
   "name": "python3"
  },
  "language_info": {
   "codemirror_mode": {
    "name": "ipython",
    "version": 3
   },
   "file_extension": ".py",
   "mimetype": "text/x-python",
   "name": "python",
   "nbconvert_exporter": "python",
   "pygments_lexer": "ipython3",
   "version": "3.9.7"
  }
 },
 "nbformat": 4,
 "nbformat_minor": 5
}
