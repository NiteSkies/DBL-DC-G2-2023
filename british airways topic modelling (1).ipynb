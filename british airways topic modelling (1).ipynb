{
 "cells": [
  {
   "cell_type": "code",
   "execution_count": 98,
   "id": "300d53fb",
   "metadata": {},
   "outputs": [
    {
     "name": "stderr",
     "output_type": "stream",
     "text": [
      "[nltk_data] Downloading package vader_lexicon to\n",
      "[nltk_data]     C:\\Users\\lucas\\AppData\\Roaming\\nltk_data...\n",
      "[nltk_data]   Package vader_lexicon is already up-to-date!\n",
      "C:\\Users\\lucas\\anaconda3\\lib\\site-packages\\sklearn\\utils\\deprecation.py:87: FutureWarning: Function get_feature_names is deprecated; get_feature_names is deprecated in 1.0 and will be removed in 1.2. Please use get_feature_names_out instead.\n",
      "  warnings.warn(msg, category=FutureWarning)\n"
     ]
    },
    {
     "name": "stdout",
     "output_type": "stream",
     "text": [
      "Topic 1: sorry delay hear reply\n",
      "Average Sentiment: -0.01\n",
      "\n",
      "Topic 2: help let booking look\n",
      "Average Sentiment: 0.24\n",
      "\n",
      "Topic 3: online booking sent change\n",
      "Average Sentiment: 0.06\n",
      "\n",
      "Topic 4: flight hope great crew\n",
      "Average Sentiment: 0.40\n",
      "\n",
      "Topic 5: flights booked contact dont\n",
      "Average Sentiment: 0.10\n",
      "\n",
      "Topic 6: thanks great hear thats\n",
      "Average Sentiment: 0.53\n",
      "\n",
      "Topic 7: flight london flying lhr\n",
      "Average Sentiment: 0.16\n",
      "\n",
      "Topic 8: flight cancelled service just\n",
      "Average Sentiment: -0.01\n",
      "\n"
     ]
    }
   ],
   "source": [
    "import nltk\n",
    "import pandas as pd\n",
    "import numpy as np\n",
    "from sklearn.decomposition import LatentDirichletAllocation\n",
    "from sklearn.feature_extraction.text import CountVectorizer\n",
    "from nltk.sentiment import SentimentIntensityAnalyzer\n",
    "import re\n",
    "\n",
    "nltk.download('vader_lexicon')\n",
    "\n",
    "\n",
    "BA_convos = pd.read_csv(r\"C:\\Users\\lucas\\downloads\\conversations_total_BA.csv\")\n",
    "data = BA_convos.drop(columns=['id_str','in_reply_to_status_id_str','in_reply_to_user_id_str','timestamp_ms','user.id_str','group_index'])\n",
    "#data = BA_convos_txt#.head(10000)\n",
    "\n",
    "\n",
    "# Additional preprocessing steps\n",
    "def preprocess_text(text):\n",
    "    # Convert to lowercase\n",
    "    text = text.lower()\n",
    "    \n",
    "    # Remove URLs\n",
    "    text = re.sub(r'http\\S+|www\\S+', '', text)\n",
    "    \n",
    "    # Remove special characters and numbers\n",
    "    text = re.sub(r'[^a-zA-Z\\s]', '', text)\n",
    "    \n",
    "    # Remove whitespace\n",
    "    text = re.sub(r'\\s+', ' ', text)\n",
    "    \n",
    "    #Remove 2 letter words\n",
    "    text = ' '.join(word for word in text.split() if len(word) > 2)\n",
    "    return text\n",
    "\n",
    "# Apply preprocessing to the text column\n",
    "\n",
    "data.loc[:, \"text\"] = data[\"text\"].apply(preprocess_text)\n",
    "\n",
    "# Remove specific words from the text\n",
    "filtered_data = data[\"text\"].apply(lambda x: re.sub(r'\\b(?:https|hi|royalfamily|britishairways|team)\\b', '', x))\n",
    "\n",
    "# Apply LDA\n",
    "n_topics = 8  # Number of topics to identify\n",
    "n_top_words = 4  # Number of most significant words to display for each topic\n",
    "\n",
    "# Tokenize and vectorize the text\n",
    "vectorizer = CountVectorizer(stop_words='english')\n",
    "X = vectorizer.fit_transform(filtered_data)\n",
    "\n",
    "\n",
    "lda = LatentDirichletAllocation(n_components=n_topics, random_state=42)\n",
    "lda.fit(X)\n",
    "\n",
    "# Get the most significant words for each topic\n",
    "feature_names = vectorizer.get_feature_names()\n",
    "topics = []\n",
    "for topic_idx, topic in enumerate(lda.components_):\n",
    "    top_features_idx = topic.argsort()[:-n_top_words - 1:-1]\n",
    "    top_features = [feature_names[i] for i in top_features_idx]\n",
    "    topics.append(top_features)\n",
    "\n",
    "# Initialize vader \n",
    "analyzer = SentimentIntensityAnalyzer()\n",
    "\n",
    "# Calculate average sentiment per topic\n",
    "topic_sentiments = []\n",
    "for i in range(n_topics):\n",
    "    topic_text = filtered_data.loc[lda.transform(X).argmax(axis=1) == i]\n",
    "    topic_sentiment_scores = [analyzer.polarity_scores(text)['compound'] for text in topic_text]\n",
    "    average_sentiment = np.mean(topic_sentiment_scores)\n",
    "    topic_sentiments.append(average_sentiment)\n",
    "\n",
    "# Print the topics and their average sentiment\n",
    "for topic_idx, topic in enumerate(topics):\n",
    "    print(f\"Topic {topic_idx + 1}: {' '.join(topic)}\")\n",
    "    print(f\"Average Sentiment: {topic_sentiments[topic_idx]:.2f}\")\n",
    "    print()\n",
    "\n"
   ]
  },
  {
   "cell_type": "code",
   "execution_count": 88,
   "id": "477330e0",
   "metadata": {},
   "outputs": [
    {
     "data": {
      "text/html": [
       "<div>\n",
       "<style scoped>\n",
       "    .dataframe tbody tr th:only-of-type {\n",
       "        vertical-align: middle;\n",
       "    }\n",
       "\n",
       "    .dataframe tbody tr th {\n",
       "        vertical-align: top;\n",
       "    }\n",
       "\n",
       "    .dataframe thead th {\n",
       "        text-align: right;\n",
       "    }\n",
       "</style>\n",
       "<table border=\"1\" class=\"dataframe\">\n",
       "  <thead>\n",
       "    <tr style=\"text-align: right;\">\n",
       "      <th></th>\n",
       "      <th>text</th>\n",
       "    </tr>\n",
       "  </thead>\n",
       "  <tbody>\n",
       "    <tr>\n",
       "      <th>0</th>\n",
       "      <td>Thanks @British_Airways I really needed the ex...</td>\n",
       "    </tr>\n",
       "    <tr>\n",
       "      <th>1</th>\n",
       "      <td>@sunriseblade That certainly is annoying. Hope...</td>\n",
       "    </tr>\n",
       "    <tr>\n",
       "      <th>2</th>\n",
       "      <td>@British_Airways I wish, we're getting off the...</td>\n",
       "    </tr>\n",
       "    <tr>\n",
       "      <th>3</th>\n",
       "      <td>@sunriseblade We're pleased to hear the crew d...</td>\n",
       "    </tr>\n",
       "    <tr>\n",
       "      <th>4</th>\n",
       "      <td>Not the best photo, taken from inside a @briti...</td>\n",
       "    </tr>\n",
       "  </tbody>\n",
       "</table>\n",
       "</div>"
      ],
      "text/plain": [
       "                                                text\n",
       "0  Thanks @British_Airways I really needed the ex...\n",
       "1  @sunriseblade That certainly is annoying. Hope...\n",
       "2  @British_Airways I wish, we're getting off the...\n",
       "3  @sunriseblade We're pleased to hear the crew d...\n",
       "4  Not the best photo, taken from inside a @briti..."
      ]
     },
     "execution_count": 88,
     "metadata": {},
     "output_type": "execute_result"
    }
   ],
   "source": [
    "BA_convos_total = pd.read_csv(r\"C:\\Users\\lucas\\downloads\\conversations_total_BA.csv\")\n",
    "BA_text = BA_convos_total.drop(columns=['id_str','in_reply_to_status_id_str','in_reply_to_user_id_str','timestamp_ms','user.id_str','group_index'])\n",
    "BA_text.head()"
   ]
  },
  {
   "cell_type": "code",
   "execution_count": 104,
   "id": "c6073d66",
   "metadata": {},
   "outputs": [
    {
     "data": {
      "image/png": "[encoded data removed]",
      "text/plain": [
       "<Figure size 576x432 with 1 Axes>"
      ]
     },
     "metadata": {
      "needs_background": "light"
     },
     "output_type": "display_data"
    }
   ],
   "source": [
    "import matplotlib.pyplot as plt\n",
    "\n",
    "\n",
    "plt.figure(figsize=(8, 6))\n",
    "topic_labels = [\"Delay apologies\", \"Booking assistance\", \"Online booking changes\", \"Good wishes for flight\", \"Flights booked\", \"Customer service satisfaction\", \"Flight in london flying soon\", \"Flight cancelled\" ]#[' '.join(topic) for topic in topics]  # Modified line\n",
    "plt.bar(topic_labels, topic_sentiments)  \n",
    "plt.xlabel('Topics')\n",
    "plt.ylabel('Average Sentiment')\n",
    "plt.title('Average Sentiment per Topic (BA)')\n",
    "plt.ylim([-0.1, 0.6])  \n",
    "plt.xticks(rotation=90)  \n",
    "plt.show()\n",
    "\n"
   ]
  }
 ],
 "metadata": {
  "kernelspec": {
   "display_name": "Python 3 (ipykernel)",
   "language": "python",
   "name": "python3"
  },
  "language_info": {
   "codemirror_mode": {
    "name": "ipython",
    "version": 3
   },
   "file_extension": ".py",
   "mimetype": "text/x-python",
   "name": "python",
   "nbconvert_exporter": "python",
   "pygments_lexer": "ipython3",
   "version": "3.9.12"
  }
 },
 "nbformat": 4,
 "nbformat_minor": 5
}
